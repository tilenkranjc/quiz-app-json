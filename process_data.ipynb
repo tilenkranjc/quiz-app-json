{
 "cells": [
  {
   "cell_type": "code",
   "execution_count": 41,
   "metadata": {},
   "outputs": [],
   "source": [
    "from bs4 import BeautifulSoup as bs\n",
    "import json\n",
    "import re"
   ]
  },
  {
   "cell_type": "code",
   "execution_count": 87,
   "metadata": {},
   "outputs": [],
   "source": [
    "f = open(\"src/constants/questions.txt\", \"r\")"
   ]
  },
  {
   "cell_type": "code",
   "execution_count": 70,
   "metadata": {},
   "outputs": [],
   "source": [
    "soup = bs(f.readline())"
   ]
  },
  {
   "cell_type": "code",
   "execution_count": 121,
   "metadata": {},
   "outputs": [
    {
     "data": {
      "text/plain": [
       "Želimo pogledati časovno obnašanje napetostnega signala. Na kateri vhod osciloskopa ga priključimo? <div><br/></div><div>A.  Na X vhod. </div><div>B.  Na Y vhod. </div><div>C.  Na Z vhod. </div><div>D.  Na vhod za proženje. </div>\u001fB. Na Y vhod\u001f"
      ]
     },
     "execution_count": 121,
     "metadata": {},
     "output_type": "execute_result"
    }
   ],
   "source": [
    "soup"
   ]
  },
  {
   "cell_type": "code",
   "execution_count": 95,
   "metadata": {},
   "outputs": [
    {
     "name": "stdout",
     "output_type": "stream",
     "text": [
      "['Na X vhod.', 'Na Y vhod.', 'Na Z vhod.', 'Na vhod za proženje.']\n"
     ]
    }
   ],
   "source": [
    "alist=[]\n",
    "ans=soup.find_all(\"div\")\n",
    "for a in ans:\n",
    "    if a.text:\n",
    "        an=a.text.strip()\n",
    "        an1=re.sub(\"^[A-D]. *\",\"\",an)\n",
    "        #an2=re.split(\"\\.$\",an1)[0]\n",
    "        alist.append(an1)\n",
    "        \n",
    "print(alist)"
   ]
  },
  {
   "cell_type": "code",
   "execution_count": 53,
   "metadata": {},
   "outputs": [
    {
     "data": {
      "text/plain": [
       "'Na Y vhod'"
      ]
     },
     "execution_count": 53,
     "metadata": {},
     "output_type": "execute_result"
    }
   ],
   "source": [
    "c1=soup.text.strip().split(\"\\x1f\").pop()\n",
    "re.split(\"[A-D]. *\",c1).pop()"
   ]
  },
  {
   "cell_type": "code",
   "execution_count": 32,
   "metadata": {},
   "outputs": [],
   "source": [
    "q=str(soup).split(\"<div><br/></div>\")[0].strip()"
   ]
  },
  {
   "cell_type": "code",
   "execution_count": 124,
   "metadata": {},
   "outputs": [
    {
     "data": {
      "text/plain": [
       "'Želimo pogledati časovno obnašanje napetostnega signala. Na kateri vhod osciloskopa ga priključimo?None'"
      ]
     },
     "execution_count": 124,
     "metadata": {},
     "output_type": "execute_result"
    }
   ],
   "source": [
    "soup.find(\"img\")"
   ]
  },
  {
   "cell_type": "code",
   "execution_count": 91,
   "metadata": {},
   "outputs": [],
   "source": [
    "f.close()"
   ]
  },
  {
   "cell_type": "code",
   "execution_count": 138,
   "metadata": {},
   "outputs": [],
   "source": [
    "results=[]\n",
    "with open(\"src/constants/questions.txt\", \"r\") as f1:\n",
    "    for line in f1:\n",
    "        soup=bs(line)\n",
    "        \n",
    "        c1=soup.text.strip().split(\"\\x1f\").pop()\n",
    "        c=re.sub(\"^[A-D]. *\",\"\",c1)\n",
    "        \n",
    "        alist=[]\n",
    "        ans=soup.find_all(\"div\")\n",
    "        for a in ans:\n",
    "            if a.text:\n",
    "                an=a.text.strip()\n",
    "                an1=re.sub(\"^[A-D]. *\",\"\",an)\n",
    "                if re.search(\"\\.$\",an1):\n",
    "                    an1=an1[:-1]\n",
    "                if re.search(\"\\xa0C.\",an1):\n",
    "                    continue\n",
    "                #an2=re.split(\"\\.$\",an1)[0]\n",
    "                if c!=an1:\n",
    "                    alist.append(an1)\n",
    "\n",
    "        \n",
    "        q=str(soup).split(\"<div><br/></div>\")[0].strip()\n",
    "        img=soup.find(\"img\")\n",
    "        if soup.find(\"img\"):\n",
    "            q=\"{}<div>{}</div>\".format(q,img)\n",
    "        results.append({\n",
    "            \"category\": \"HAM izpit\",\n",
    "            \"type\": \"multiple\",\n",
    "            \"difficulty\": \"easy\",\n",
    "            \"question\": q,\n",
    "            \"correct_answer\": c,\n",
    "            \"incorrect_answers\": alist\n",
    "        })"
   ]
  },
  {
   "cell_type": "code",
   "execution_count": 139,
   "metadata": {
    "collapsed": true,
    "jupyter": {
     "outputs_hidden": true
    }
   },
   "outputs": [
    {
     "name": "stdout",
     "output_type": "stream",
     "text": [
      "{'category': 'HAM izpit', 'type': 'multiple', 'difficulty': 'easy', 'question': '144. Hrvaški radioamater 9A2CO je šel na izlet v Avstrijo. Ima veljavno CEPT licenco. Med potjo se bo oglašal iz avtomobila v skladu s priporočilom CEPT T/R 61-01 kot:', 'correct_answer': '?C? V skripti vprašanj ni odgovora', 'incorrect_answers': ['9A2CO/OE', '9A2CO/M', 'OE/9A2CO/M', 'OE/9A2CO']}\n",
      "{'category': 'HAM izpit', 'type': 'multiple', 'difficulty': 'easy', 'question': '459.  Na sliki je simbol za:<div><img src=\"paste-36b493db1b4a861f042147f3e1a0a2b73fd76270.jpg\"/></div>', 'correct_answer': 'spremenljivi upor', 'incorrect_answers': ['<', 'stalni upor', 'varovalko', 'potenciometer']}\n",
      "{'category': 'HAM izpit', 'type': 'multiple', 'difficulty': 'easy', 'question': '502.\\xa0 Kolikšna je skupna upornost vezja na sliki?<div><img src=\"paste-6fb0283e74e044bb3b79690f07eac974b7dc6ee9.jpg\"/></div>', 'correct_answer': '250 Ohmov || 1/R = 1/500 + 1/(300+200). Torej 1/500 + 1/500, kar je 250.', 'incorrect_answers': ['1000 OhmovB.  700 OhmovC.  500 OhmovD.  250 Ohmov', '1000 Ohmov', '700 Ohmov', '500 Ohmov', '250 Ohmov']}\n",
      "{'category': 'HAM izpit', 'type': 'multiple', 'difficulty': 'easy', 'question': '503.  Kolikšna je skupna upornost vezja na sliki?<div><img src=\"paste-f7d66d607481edfe429915595addd888635216d9.jpg\"/></div>', 'correct_answer': '15 Ohmov ||\\xa01/30 + 1/(25+5). To je 2/30 = 15 Ohmov', 'incorrect_answers': ['60 OhmovB.  30 OhmovC.  25 OhmovD.  15 Ohmov', '60 Ohmov', '30 Ohmov', '25 Ohmov', '15 Ohmov']}\n",
      "{'category': 'HAM izpit', 'type': 'multiple', 'difficulty': 'easy', 'question': '504.  Kolikšna je skupna upornost vezja na sliki?<div><img src=\"paste-5ac0fc803348e57a2fadfa0ece732a10a90a8137.jpg\"/></div>', 'correct_answer': '15 Ohmov\\xa0 ||\\xa0 15, ker 10 + (2/10) = 15', 'incorrect_answers': ['10 OhmovB.  15 OhmovC.  20 OhmovD.  30 Ohmov', '10 Ohmov', '15 Ohmov', '20 Ohmov', '30 Ohmov']}\n",
      "{'category': 'HAM izpit', 'type': 'multiple', 'difficulty': 'easy', 'question': '510.  Izračunaj notranjo upornost generatorja!<div>Odgovor je podan v ohmih.</div><div><img src=\"paste-bcd279d88e9840a2e62424a3bd769d26107547b5.jpg\"/></div>', 'correct_answer': '1 Ohm', 'incorrect_answers': ['Odgovor je podan v ohmih', '0,1', '1,0', '0,5', '2,0']}\n",
      "{'category': 'HAM izpit', 'type': 'multiple', 'difficulty': 'easy', 'question': '515.  Izračunaj vsoto napetosti v zaprti zanki II<div><img src=\"paste-1759487cf0d27c7f735c952b5ebd47cfab61d7ec.jpg\"/></div>', 'correct_answer': '0V', 'incorrect_answers': ['0 V', '10 V', '20 V', '15 V']}\n",
      "{'category': 'HAM izpit', 'type': 'multiple', 'difficulty': 'easy', 'question': '587.  Po kateri formuli izračunamo resonančno frekvenco nihajnega kroga (L je induktivnost tuljave, C pa kapacitivnost kondenzatorja)?<div><img src=\"paste-bf0f5f08180e54f81d7fddc7ba9f2fd67fa679d4.jpg\"/></div>', 'correct_answer': '', 'incorrect_answers': []}\n",
      "{'category': 'HAM izpit', 'type': 'multiple', 'difficulty': 'easy', 'question': '589. Po kateri formuli izračunamo Q-faktor nihajnega kroga, če sta dani pasovna širina B in resonančna frekvenca Fres?<div><img src=\"paste-3e5500542b913bf1fc22342d78833131832a0ddc.jpg\"/></div>', 'correct_answer': 'Q = Fres/B', 'incorrect_answers': []}\n",
      "{'category': 'HAM izpit', 'type': 'multiple', 'difficulty': 'easy', 'question': '591.  Kaj prikazuje slika?<div><img src=\"paste-9ac5e9c1886bdbb7b32b2a41e85c3abdfdd3630f.jpg\"/></div>', 'correct_answer': 'Nizkoprepustni filter T', 'incorrect_answers': ['Nizkoprepustni filter T.\\xa0B.  Nizkoprepustni filter Pi.C.  Pasovnoprepustni kristalni filter.\\xa0D.  Zaporedni nihajni krog', 'Nizkoprepustni filter Pi', 'Pasovnoprepustni kristalni filter', 'Zaporedni nihajni krog']}\n",
      "{'category': 'HAM izpit', 'type': 'multiple', 'difficulty': 'easy', 'question': '913.  Vod na sliki ima impedanco Z. S kakšnim bremenom R dobimo porazdelitev napetosti vzdolž voda, kot jo kaže slika?<div><img src=\"paste-43d5414c67dfb6354b0803e1c6fe6dfff6463205.jpg\"/></div>', 'correct_answer': 'R = 0', 'incorrect_answers': ['R = ZB. R = 0C. R = ∞D. R > Z', 'R = Z', 'R = ∞', 'R > Z']}\n",
      "{'category': 'HAM izpit', 'type': 'multiple', 'difficulty': 'easy', 'question': '915.  Vod na sliki ima impedanco Z. S kakšnim bremenom R dobimo porazdelitev napetosti vzdolž voda, kot jo kaže slika?<div><img src=\"paste-633a3210b8a530d0a4f3d5758c10cf74da798ef6.jpg\"/></div>', 'correct_answer': 'R > Z', 'incorrect_answers': ['R = ZB. R = 0C. R < ZD. R > Z', 'R = Z', 'R = 0', 'R < Z']}\n",
      "{'category': 'HAM izpit', 'type': 'multiple', 'difficulty': 'easy', 'question': '916.  Vod na sliki ima impedanco Z. S kakšnim bremenom R dobimo porazdelitev napetosti vzdolž voda, kot jo kaže slika?<div><img src=\"paste-571232382300d3ee0e4f34f20c7f838d9269435b.jpg\"/></div>', 'correct_answer': 'R < Z', 'incorrect_answers': ['R = ZB. R = 0C. R < ZD. R > Z', 'R = Z', 'R = 0', 'R > Z']}\n",
      "{'category': 'HAM izpit', 'type': 'multiple', 'difficulty': 'easy', 'question': 'Ali je v nasprotju s predpisi, če radioamater operater oddaja izven frekvenčnih pasov predvidenih za radioamaterje?', 'correct_answer': 'Da, razen\\xa0če se odzove klicu v sili in ukrepa skladno s tem', 'incorrect_answers': ['Da, v vsakem primeru', 'Da, razen če se odzove klicu v sili in ukrepa skladno s tem', 'Da, razen če želi oddati šifrirano sporočilo', 'Ne, v nobenem primeru']}\n",
      "{'category': 'HAM izpit', 'type': 'multiple', 'difficulty': 'easy', 'question': 'Ali se kvaliteta tona ocenjuje tudi pri SSB zvezah?', 'correct_answer': 'Ne, pri teh zvezah ocenjujemo le razumljivost in\\xa0jakost signala', 'incorrect_answers': ['Da', 'Ne, pri teh zvezah ocenjujemo le razumljivost in jakost signala', 'Ne, pri SSB zvezah ocenjujemo samo jakost signala', 'Da, vendar le pri doma narejenih postajah']}\n",
      "{'category': 'HAM izpit', 'type': 'multiple', 'difficulty': 'easy', 'question': 'Iz katere države je postaja OL5A?', 'correct_answer': 'Iz\\xa0Češke', 'incorrect_answers': ['Iz Velike Britanije', 'Iz Slovaške', 'Iz Albanije', 'Iz Češke']}\n",
      "{'category': 'HAM izpit', 'type': 'multiple', 'difficulty': 'easy', 'question': 'Kaj je »self spotting«?', 'correct_answer': 'Objavljanje podatkov o frekvenci na kateri kličeš, kar ni v skladu s pravili uporabe DX clustra', 'incorrect_answers': ['Pikice na koži, ki jih dobijo operaterji ob spremljanju nekulturnih izpadov v pileupih. C.  Objavljanje podatkov o frekvenci na kateri kličeš, kar je v skladu s pravili uporabe DX clustra', 'Oddajanje pikic s tasterjem pri uglaševanju linearnega ojačevalca']}\n",
      "{'category': 'HAM izpit', 'type': 'multiple', 'difficulty': 'easy', 'question': 'Kaj lahko merimo z AVO metrom?', 'correct_answer': 'Tok, napetost in upornost || AVO => Amper, Volt, Ohm.', 'incorrect_answers': ['Tok, napetost in upornost', 'Samo tok', 'Samo napetost', 'Samo upornost']}\n",
      "{'category': 'HAM izpit', 'type': 'multiple', 'difficulty': 'easy', 'question': 'Kaj označuje R v RST?', 'correct_answer': '\\xa0Čitljivost', 'incorrect_answers': ['Glasnost', 'Čitljivost', 'Jakost signala', 'Kvaliteto tona']}\n",
      "{'category': 'HAM izpit', 'type': 'multiple', 'difficulty': 'easy', 'question': 'Kaj se zgodi z napetostjo na sekundarni strani transformatorja, če podvojimo število ovojev sekundarja, vsi drugi podatki pa ostanejo nespremenjeni?', 'correct_answer': 'Napetost se podvoji.', 'incorrect_answers': ['Napetost se ne spremeni', 'Napetost se podvoji', 'Napetost se početveri', 'Napetost se prepolovi']}\n",
      "{'category': 'HAM izpit', 'type': 'multiple', 'difficulty': 'easy', 'question': 'Kaj so radijski valovi?', 'correct_answer': 'To so elektromagnetni valovi, ki imajo frekvence\\xa0nižje od 3 THz oziroma valovne\\xa0dolžine večje od 0.1 mm', 'incorrect_answers': ['To so elektromagnetni valovi z valovno dolžino od 180 m do 3 cm', 'To so srednji valovi, kratki valovi in ultra kratki valovi', 'To so elektromagnetni valovi, ki imajo frekvence nižje od 3 THz oziroma valovne dolžine večje od 0.1 mm', 'To so valovi, ki nastanejo, ko nam radijska postaja pade v vodo']}\n",
      "{'category': 'HAM izpit', 'type': 'multiple', 'difficulty': 'easy', 'question': 'Kaj so telekomunikacije?', 'correct_answer': 'Telekomunikacije so vsak prenos, oddaja ali sprejem znakov, signalov, pisanih besedil,\\xa0slik in zvokov ali kakeršnihkoli drugih sporočil po žičnih, radijskih, optičnih ali drugih\\xa0elektromagnetnih sistemih', 'incorrect_answers': ['To so državni organi, ki s predpisi urejajo področje PTT prometa', 'To so podjetja, ki imajo koncesijo za nudenje komunikacijskih storitev v domačem in mednarodnem prometu', 'Telekomunikacije so: radijske postaje, modemi, telefoni in telefonske centrale ter TV in radijski oddajniki in sprejemniki', 'Telekomunikacije so vsak prenos, oddaja ali sprejem znakov, signalov, pisanih besedil, slik in zvokov ali kakeršnihkoli drugih sporočil po žičnih, radijskih, optičnih ali drugih elektromagnetnih sistemih']}\n",
      "{'category': 'HAM izpit', 'type': 'multiple', 'difficulty': 'easy', 'question': 'Kako imenujemo lastnost snovi, da se upira prevajanju električnega toka?', 'correct_answer': 'Električna upornost.', 'incorrect_answers': ['Električno trenje', 'Električna napetost', 'Električna upornost', 'Električni pretok']}\n",
      "{'category': 'HAM izpit', 'type': 'multiple', 'difficulty': 'easy', 'question': 'Kako odčitamo periodo periodičnega signala z zaslona osciloskopa?', 'correct_answer': 'S pomočjo mreže na zaslonu odčitamo horizontalne razdelke, ki jih pomnožimo z nastavljeno vrednostjo sekunda na razdelek', 'incorrect_answers': ['S pomočjo mreže na zaslonu odčitamo vertikalne razdelke, ki jih pomnožimo z nastavljeno vrednostjo volt na razdelek', 'S pomočjo mreže na zaslonu odčitamo horizontalne razdelke, ki jih pomnožimo   z nastavljeno vrednostjo volt na razdelek', 'S pomočjo mreže na zaslonu odčitamo horizontalne razdelke, ki jih pomnožimo  z nastavljeno vrednostjo sekunda na razdelek', 'Vrednosti periode ne moremo odčitati']}\n",
      "{'category': 'HAM izpit', 'type': 'multiple', 'difficulty': 'easy', 'question': 'Kako se imenuje diploma za potrjene zveze s 40 conami po CQ razdelitvi sveta?', 'correct_answer': 'WAZ.', 'incorrect_answers': ['DXCC', 'WAZ', 'WAC', 'WAE']}\n",
      "{'category': 'HAM izpit', 'type': 'multiple', 'difficulty': 'easy', 'question': 'Kako se pravilno črkuje znak S50ZRI?', 'correct_answer': 'Sierra Five Zero Zulu Romeo India.', 'incorrect_answers': ['Sierra Fifty Zulu Romeo India', 'Sierra Five Zero Romeo India', 'Sierra Five Zero Zulu Romeo India', 'Sierra Five Zero Zebra Romeo India']}\n",
      "{'category': 'HAM izpit', 'type': 'multiple', 'difficulty': 'easy', 'question': 'Kako se pravilno črkuje znak WV0I?', 'correct_answer': 'Dvojni-V Velenje Nič\\xa0Izola', 'incorrect_answers': ['Dvojni-V Velenje Nič Iks', 'Dvojni-V Velenje Nič Izola', 'White Velenje Nič Indija', 'Whiskey Vransko Nič Izola']}\n",
      "{'category': 'HAM izpit', 'type': 'multiple', 'difficulty': 'easy', 'question': 'Kako ukrepaš, če opaziš, da nek radioamater krši HAM SPIRIT?', 'correct_answer': '\\xa0Opozorim ga in mu pomagam, da ne bo več delal napak', 'incorrect_answers': ['Prijavim ga vodstvu radiokluba', 'Prijavim ga najbližji postaji policije', 'Opozorim ga in mu pomagam, da ne bo več delal napak', 'Prijavim ga na ZRS']}\n",
      "{'category': 'HAM izpit', 'type': 'multiple', 'difficulty': 'easy', 'question': 'Kakšna je minimalna vzorčevalna frekvenca pri digitalni obdelavi signalov?', 'correct_answer': 'Enaka dvakratniku najvišje frekvence vzorčenega signala', 'incorrect_answers': ['Enaka kot frekvenca vzorčenega signala. B.  Enaka polovici frekvence vzorčenega signala', 'Enaka desetkratniku najvišje frekvence vzorčenega signala']}\n",
      "{'category': 'HAM izpit', 'type': 'multiple', 'difficulty': 'easy', 'question': 'Kateri frekvenčni pas mora pokrivati VFO v enojnem superheterodinskem sprejemniku, ki ima medfrekvenco 9 MHz, če želimo sprejemati signale na frekvenčnem pasu od 14.0 - 14.5 MHz?', 'correct_answer': '\\xa05.0 - 5.5 MHz', 'incorrect_answers': ['3.5 - 4.0 MHz', '5.0 - 5.5 MHz', '9.0 - 9.5 MHz', '14.0 - 14.5 MHz']}\n",
      "{'category': 'HAM izpit', 'type': 'multiple', 'difficulty': 'easy', 'question': 'Kateri od sledečih prefiksov NE pripada Švedski?', 'correct_answer': 'SP.', 'incorrect_answers': ['SM', 'SP', 'SK', 'SL']}\n",
      "{'category': 'HAM izpit', 'type': 'multiple', 'difficulty': 'easy', 'question': 'Katero velikost QSL kartice priporoča IARU?\\xa0<div>', 'correct_answer': '9 x 14 cm', 'incorrect_answers': ['9 x 15 cm', '10 x 14 cm']}\n",
      "{'category': 'HAM izpit', 'type': 'multiple', 'difficulty': 'easy', 'question': 'Kdaj nastopi preobremenitev sprejemnika?', 'correct_answer': 'Preobremenitev nastopi, ko se na vhodu sprejemnika pojavi izredno močan RF signal, ki spravi v nasičenje eno ali več njegovih stopen', 'incorrect_answers': ['Preobremenitev nastopi, ko se na vhodu sprejemnika pojavi zelo šibak RF signal, katerega sprejemnik ne more več zaznati', 'Preobremenitev nastopi, ko se na izhodu sprejemnika pojavi tako močan signal, da v ušesih začutimo bolečino', 'Preobremenitev nastopi, ko se na vhodu sprejemnika pojavi izredno močan RF signal, ki spravi v nasičenje eno ali več njegovih stopenj', 'Preobremenitev nastopi, ko v sprejemniku pregorijo varovalke']}\n",
      "{'category': 'HAM izpit', 'type': 'multiple', 'difficulty': 'easy', 'question': 'Kdaj se srečamo s pojmom \"skin efekt\"?', 'correct_answer': 'Pri izmeničnih tokovih visokih frekvenc, ko gostota toka v sredi vodnika pada, medtem ko na površini raste', 'incorrect_answers': ['Pri enosmernih tokovih, kjer tok teče le po površini vodnika', 'Pri izmeničnih tokovih, kjer teče tok po celotnem preseku vodnika', 'Pri izmeničnih tokovih visokih frekvenc, ko  gostota toka v sredi vodnika pada, medtem ko na površini raste', 'Pri poškodbah kože, ki nastane zaradi izpostavljanja močnim UV žarkom']}\n",
      "{'category': 'HAM izpit', 'type': 'multiple', 'difficulty': 'easy', 'question': 'Kdo so »policaji« na radioamaterskih obsegih?', 'correct_answer': 'Radioamaterji, ki opozarjajo ostale radioamaterje na nepravilna ravnanja na obsegih', 'incorrect_answers': ['Radioamaterji, ki zaračunavajo kazni ob nepravilnostih na obsegih', 'Radioamaterji, ki so po poklicu policisti. D.  Radioamaterji, ki so s strani zveze zadolženi za nadzorovanje obsegov']}\n",
      "{'category': 'HAM izpit', 'type': 'multiple', 'difficulty': 'easy', 'question': 'Koliko bitni AD pretvornik potrebujemo, če kvantiziramo signal amplitude 1V in želimo doseči ločljivost na vsaj 2Mv natančno?', 'correct_answer': '10-bitni\\xa0 ||\\xa0 Imam 1V. Na 2mV natančno pomeni, da imam 1V/0,002V = 500 stopenj. 2^8 je premalo, ker je samo 256. 2^10 je zadosti, ker je 1024', 'incorrect_answers': ['4-bitni', '8-bitni', '10-bitni', '12-bitni']}\n",
      "{'category': 'HAM izpit', 'type': 'multiple', 'difficulty': 'easy', 'question': 'Kolikšna je napetost na uporu R=10 ohmov, skozi katerega teče tok I=500 mA?', 'correct_answer': '5V', 'incorrect_answers': ['50 V', '20 V', '2 V', '5 V']}\n",
      "{'category': 'HAM izpit', 'type': 'multiple', 'difficulty': 'easy', 'question': 'Kratica RST pomeni:', 'correct_answer': 'Ocena kakovosti sprejetega signala.', 'incorrect_answers': ['Resetiraj postajo', 'Resetiraj računalnik', 'Ocena kakovosti sprejetega signala', 'Raster']}\n",
      "{'category': 'HAM izpit', 'type': 'multiple', 'difficulty': 'easy', 'question': 'Nosilec moduliramo z informacijskim signalom, ki ima pasovno širino 10 kHz. Kolikšna je pasovna širina rezultirajočega amplitudno moduliranega (AM) signala?', 'correct_answer': '20 kHz', 'incorrect_answers': ['100 kHz. B.  40 kHz. C.  20 kHz. D.  10 kHz']}\n",
      "{'category': 'HAM izpit', 'type': 'multiple', 'difficulty': 'easy', 'question': 'Od česa je odvisna stabilnost nihanja oscilatorja?', 'correct_answer': 'Od mehanske in električne izvedbe oscilatorja, staranja elementov in temperature okolice.', 'incorrect_answers': ['Od podeželskega šuma in sončevega vetra', 'Od napetosti napajanja, vrednosti tuljave in kondenzatorja v nihajnem krogu ter fotonskega plina', 'Od mehanske in električne izvedbe oscilatorja, staranja elementov in temperature okolice', 'Samo od napetosti napajanja']}\n",
      "{'category': 'HAM izpit', 'type': 'multiple', 'difficulty': 'easy', 'question': 'Odbojnost 1 pomeni:', 'correct_answer': 'popolnoma neprilagojeno brem', 'incorrect_answers': ['popolnoma prilagojeno breme na generator', 'zelo slab SWR', 'popolnoma neprilagojeno breme', 'neelastično breme']}\n",
      "{'category': 'HAM izpit', 'type': 'multiple', 'difficulty': 'easy', 'question': 'Okoli magneta obstaja magnetno polje. Kako običajno ponazorimo potek polja?', 'correct_answer': 'Polje ponazorimo s silnicami. To so\\xa0črte, ki kažejo smer polja in potekajo od severnega\\xa0proti južnemu polu magneta', 'incorrect_answers': ['Polje ponazorimo s silnicami. To so črte, ki kažejo smer polja in potekajo od južnega proti severnemu polu magneta', 'Polje ponazorimo s silnicami. To so črte, ki kažejo smer polja in potekajo od severnega proti južnemu polu magneta', 'Polje ponazorimo s črto, ki ji pravimo magnetna os', 'Polje ponazorimo s črtami, ki jim pravimo ekvipotencialne črte']}\n",
      "{'category': 'HAM izpit', 'type': 'multiple', 'difficulty': 'easy', 'question': 'QRK je koda za:', 'correct_answer': 'Razumljivost tvojega signala je ...', 'incorrect_answers': ['Moti me statika', 'Razumljivost tvojega signala je ..', 'Kliče te ..', 'Moja lokacija je ..']}\n",
      "{'category': 'HAM izpit', 'type': 'multiple', 'difficulty': 'easy', 'question': 'QRX je koda za:', 'correct_answer': 'Ponovno te bom poklical ob ...', 'incorrect_answers': ['Oddajaj počasneje', 'Oddajaj hitreje', 'Tvoj signal niha', 'Ponovno te bom poklical ob ..']}\n",
      "{'category': 'HAM izpit', 'type': 'multiple', 'difficulty': 'easy', 'question': 'S kakšno največjo močjo je operaterjem N razreda v Sloveniji dovoljeno oddajati na frekvenci 145.550 MHz?', 'correct_answer': '25 W.', 'incorrect_answers': ['25 W', '50 W', '100 W', '750 W']}\n",
      "{'category': 'HAM izpit', 'type': 'multiple', 'difficulty': 'easy', 'question': 'S kakšno največjo močjo je radioamaterjem A razreda v Sloveniji dovoljeno oddajati na frekvenci 1820 kHz?', 'correct_answer': 'STARO - C. 300 W.\\xa0NOVO\\xa0 \\xa0- D. 1500 W.', 'incorrect_answers': ['50 W', '75 W', '300 W', '1500 W', 'STARO - C. 300 W', 'NOVO\\xa0 \\xa0- D. 1500 W']}\n",
      "{'category': 'HAM izpit', 'type': 'multiple', 'difficulty': 'easy', 'question': 'S kakšno največjo močjo je radioamaterjem A razreda v Sloveniji dovoljeno oddajati na frekvenci 1910 kHz?', 'correct_answer': '300 W (Na novo naj bi bilo 1500W, a te možnosti ni v skripti vprašanj)', 'incorrect_answers': ['50 W', '75 W', '100 W', '300 W']}\n",
      "{'category': 'HAM izpit', 'type': 'multiple', 'difficulty': 'easy', 'question': 'S kakšno največjo močjo je radioamaterjem N razreda v Sloveniji dovoljeno oddajati na frekvenci 7010 kHz?', 'correct_answer': '100 W.', 'incorrect_answers': ['100 W', '250 W', '300 W', '1500 W']}\n",
      "{'category': 'HAM izpit', 'type': 'multiple', 'difficulty': 'easy', 'question': 'S kakšno največjo močjo je radioamaterjem v Sloveniji dovoljeno oddajati na frekvenci 434.600 MHz?', 'correct_answer': 'Na tej frekvenci ne smejo oddajati, ker se nahaja v območju izhodnih frekvenc\\xa0repetitorjev', 'incorrect_answers': ['25 W', '50 W', '100 W', 'Na tej frekvenci ne smejo oddajati, ker se nahaja v območju izhodnih frekvenc repetitorjev']}\n",
      "{'category': 'HAM izpit', 'type': 'multiple', 'difficulty': 'easy', 'question': 'SK CL pomeni:', 'correct_answer': '\\xa0Končujem zvezo in izključujem postajo', 'incorrect_answers': ['Začni zvezo s postajo, ki ima klicni znak CL', 'Končujem zvezo in izključujem postajo', 'Končujem zvezo', 'Končujem sporočilo']}\n",
      "{'category': 'HAM izpit', 'type': 'multiple', 'difficulty': 'easy', 'question': 'Zakaj je pomembno, da se pred vsakim tekmovanjem podučimo o pravilih le tega?', 'correct_answer': 'Da smo seznanjeni s pravili in vemo, s katerimi\\xa0postajami lahko naredimo veljavno\\xa0zvezo, s katerimi pa ne', 'incorrect_answers': ['Da vemo, kdo bo zmagal', 'Da si razširimo obzorja', 'Ker so nam tako rekli na radioamaterskem tečaju', 'Da smo seznanjeni s pravili in vemo, s katerimi postajami lahko naredimo veljavno zvezo, s katerimi pa ne']}\n",
      "{'category': 'HAM izpit', 'type': 'multiple', 'difficulty': 'easy', 'question': 'Čemu je namenjena vzpostavitev zveze med dvema radioamaterjema?', 'correct_answer': '\\xa0Druženju, raziskovanju propagacij, testiranju tehnične opreme', 'incorrect_answers': ['Pogovoru o veri, politiki in komercialnim oglasom', 'Klepetanju o jutranjih nakupih na zelenjavni tržnici', 'Druženju, raziskovanju propagacij, testiranju tehnične opreme', 'Enosmernemu oddajanju razglasov ali glasbe']}\n"
     ]
    }
   ],
   "source": [
    "for r in results:\n",
    "    if len(r[\"incorrect_answers\"])!=3:\n",
    "        print(r)"
   ]
  },
  {
   "cell_type": "code",
   "execution_count": 140,
   "metadata": {},
   "outputs": [],
   "source": [
    "with open('data.json', 'w', encoding='utf-8') as fo:\n",
    "    json.dump(results, fo, ensure_ascii=False, indent=4)"
   ]
  },
  {
   "cell_type": "code",
   "execution_count": 144,
   "metadata": {},
   "outputs": [],
   "source": [
    "with open('data.json') as json_file:\n",
    "    data = json.load(json_file)\n",
    "    for r in data:\n",
    "        if len(r[\"incorrect_answers\"])!=3:\n",
    "            print(r)"
   ]
  },
  {
   "cell_type": "code",
   "execution_count": 148,
   "metadata": {},
   "outputs": [],
   "source": [
    "import os"
   ]
  },
  {
   "cell_type": "code",
   "execution_count": 149,
   "metadata": {},
   "outputs": [],
   "source": [
    "with open('public/images/media') as json_file:\n",
    "    data = json.load(json_file)\n",
    "    for k,r in data.items():\n",
    "        os.rename(\"public/images/\"+k,\"public/images/\"+r)"
   ]
  }
 ],
 "metadata": {
  "kernelspec": {
   "display_name": "Python 3",
   "language": "python",
   "name": "python3"
  },
  "language_info": {
   "codemirror_mode": {
    "name": "ipython",
    "version": 3
   },
   "file_extension": ".py",
   "mimetype": "text/x-python",
   "name": "python",
   "nbconvert_exporter": "python",
   "pygments_lexer": "ipython3",
   "version": "3.6.12"
  }
 },
 "nbformat": 4,
 "nbformat_minor": 4
}
